{
  "nbformat": 4,
  "nbformat_minor": 0,
  "metadata": {
    "colab": {
      "provenance": []
    },
    "kernelspec": {
      "name": "python3",
      "display_name": "Python 3"
    },
    "language_info": {
      "name": "python"
    }
  },
  "cells": [
    {
      "cell_type": "code",
      "execution_count": 1,
      "metadata": {
        "colab": {
          "base_uri": "https://localhost:8080/"
        },
        "id": "i9RdDbbag6Rs",
        "outputId": "1bbb15a4-22b0-4b43-bc40-0e58347f4cce"
      },
      "outputs": [
        {
          "output_type": "stream",
          "name": "stdout",
          "text": [
            "Requirement already satisfied: pandas in /usr/local/lib/python3.10/dist-packages (2.0.3)\n",
            "Requirement already satisfied: python-dateutil>=2.8.2 in /usr/local/lib/python3.10/dist-packages (from pandas) (2.8.2)\n",
            "Requirement already satisfied: pytz>=2020.1 in /usr/local/lib/python3.10/dist-packages (from pandas) (2023.4)\n",
            "Requirement already satisfied: tzdata>=2022.1 in /usr/local/lib/python3.10/dist-packages (from pandas) (2024.1)\n",
            "Requirement already satisfied: numpy>=1.21.0 in /usr/local/lib/python3.10/dist-packages (from pandas) (1.25.2)\n",
            "Requirement already satisfied: six>=1.5 in /usr/local/lib/python3.10/dist-packages (from python-dateutil>=2.8.2->pandas) (1.16.0)\n"
          ]
        }
      ],
      "source": [
        "pip install pandas"
      ]
    },
    {
      "cell_type": "code",
      "source": [
        "import pandas as pd"
      ],
      "metadata": {
        "id": "2naV0qVViwrw"
      },
      "execution_count": 2,
      "outputs": []
    },
    {
      "cell_type": "code",
      "source": [
        "# Load the dataset\n",
        "df = pd.read_csv('/content/sample_data.csv')\n",
        "print(df)"
      ],
      "metadata": {
        "colab": {
          "base_uri": "https://localhost:8080/"
        },
        "id": "8ZGPs31gi0em",
        "outputId": "a3ca7e2c-8303-4a0e-f320-efb8697e19bd"
      },
      "execution_count": 3,
      "outputs": [
        {
          "output_type": "stream",
          "name": "stdout",
          "text": [
            "      Name   Age   Salary   Departmrnt\n",
            "0    Alice  25.0  50000.0           HR\n",
            "1      Bob  30.0      NaN  Enginnering\n",
            "2  Charlie  35.0  70000.0  Enginnering\n",
            "3    David   NaN  60000.0           HR\n",
            "4      Eve  28.0  80000.0           HR\n",
            "5    Frank  40.0  55000.0        Sales\n",
            "6    Grace  50.0  85000.0        Sales\n",
            "7     Hank  60.0  90000.0        Sales\n"
          ]
        }
      ]
    },
    {
      "cell_type": "code",
      "source": [
        "# Check for missing values\n",
        "print(df.isnull().sum())"
      ],
      "metadata": {
        "colab": {
          "base_uri": "https://localhost:8080/"
        },
        "id": "adOy8i_bjLWC",
        "outputId": "dbbf93df-aa56-4c1b-8088-329be578df3e"
      },
      "execution_count": 5,
      "outputs": [
        {
          "output_type": "stream",
          "name": "stdout",
          "text": [
            "Name          0\n",
            "Age           1\n",
            "Salary        1\n",
            "Departmrnt    0\n",
            "dtype: int64\n"
          ]
        }
      ]
    },
    {
      "cell_type": "code",
      "source": [
        "df.info()"
      ],
      "metadata": {
        "colab": {
          "base_uri": "https://localhost:8080/"
        },
        "id": "HFth5QGLja9T",
        "outputId": "1fd49412-5fd1-4590-8ca6-86f1c054cac0"
      },
      "execution_count": 6,
      "outputs": [
        {
          "output_type": "stream",
          "name": "stdout",
          "text": [
            "<class 'pandas.core.frame.DataFrame'>\n",
            "RangeIndex: 8 entries, 0 to 7\n",
            "Data columns (total 4 columns):\n",
            " #   Column      Non-Null Count  Dtype  \n",
            "---  ------      --------------  -----  \n",
            " 0   Name        8 non-null      object \n",
            " 1   Age         7 non-null      float64\n",
            " 2   Salary      7 non-null      float64\n",
            " 3   Departmrnt  8 non-null      object \n",
            "dtypes: float64(2), object(2)\n",
            "memory usage: 384.0+ bytes\n"
          ]
        }
      ]
    },
    {
      "cell_type": "markdown",
      "source": [
        "Removing Rows with Missing Values"
      ],
      "metadata": {
        "id": "FKaAf6x7kug7"
      }
    },
    {
      "cell_type": "code",
      "source": [
        "# Remove rows with any missing values\n",
        "df_cleaned = df.dropna()\n",
        "print(df_cleaned)"
      ],
      "metadata": {
        "colab": {
          "base_uri": "https://localhost:8080/"
        },
        "id": "ZamazgDQjiZb",
        "outputId": "8f61d2cf-e3d9-4c9e-b536-ca3a7e7bec7e"
      },
      "execution_count": 7,
      "outputs": [
        {
          "output_type": "stream",
          "name": "stdout",
          "text": [
            "      Name   Age   Salary   Departmrnt\n",
            "0    Alice  25.0  50000.0           HR\n",
            "2  Charlie  35.0  70000.0  Enginnering\n",
            "4      Eve  28.0  80000.0           HR\n",
            "5    Frank  40.0  55000.0        Sales\n",
            "6    Grace  50.0  85000.0        Sales\n",
            "7     Hank  60.0  90000.0        Sales\n"
          ]
        }
      ]
    },
    {
      "cell_type": "markdown",
      "source": [
        "Filling Missing Values"
      ],
      "metadata": {
        "id": "oYxxjuJWlHAL"
      }
    },
    {
      "cell_type": "code",
      "source": [
        "# Fill missing values with a specific value\n",
        "df_filled = df.fillna(\n",
        "    {'Age': df['Age'].mean(),\n",
        "     'Salary': df['Salary'].mean()}\n",
        ")\n",
        "print(df_filled)"
      ],
      "metadata": {
        "colab": {
          "base_uri": "https://localhost:8080/"
        },
        "id": "1qPGiv1nlLhh",
        "outputId": "e2102c7f-d04b-41a2-8e77-03ecfc65b8be"
      },
      "execution_count": 8,
      "outputs": [
        {
          "output_type": "stream",
          "name": "stdout",
          "text": [
            "      Name        Age   Salary   Departmrnt\n",
            "0    Alice  25.000000  50000.0           HR\n",
            "1      Bob  30.000000  70000.0  Enginnering\n",
            "2  Charlie  35.000000  70000.0  Enginnering\n",
            "3    David  38.285714  60000.0           HR\n",
            "4      Eve  28.000000  80000.0           HR\n",
            "5    Frank  40.000000  55000.0        Sales\n",
            "6    Grace  50.000000  85000.0        Sales\n",
            "7     Hank  60.000000  90000.0        Sales\n"
          ]
        }
      ]
    },
    {
      "cell_type": "markdown",
      "source": [
        "Forward Fill Method"
      ],
      "metadata": {
        "id": "i_8vawnrmMQ3"
      }
    },
    {
      "cell_type": "code",
      "source": [
        "# Forward Fill method\n",
        "df_ffill = df.fillna(method='ffill')\n",
        "print(df_ffill)"
      ],
      "metadata": {
        "colab": {
          "base_uri": "https://localhost:8080/"
        },
        "id": "DyUcA_dWmP3e",
        "outputId": "b9416816-d95a-4c11-b626-65f797d19f54"
      },
      "execution_count": 9,
      "outputs": [
        {
          "output_type": "stream",
          "name": "stdout",
          "text": [
            "      Name   Age   Salary   Departmrnt\n",
            "0    Alice  25.0  50000.0           HR\n",
            "1      Bob  30.0  50000.0  Enginnering\n",
            "2  Charlie  35.0  70000.0  Enginnering\n",
            "3    David  35.0  60000.0           HR\n",
            "4      Eve  28.0  80000.0           HR\n",
            "5    Frank  40.0  55000.0        Sales\n",
            "6    Grace  50.0  85000.0        Sales\n",
            "7     Hank  60.0  90000.0        Sales\n"
          ]
        }
      ]
    },
    {
      "cell_type": "markdown",
      "source": [
        "Backward fill method"
      ],
      "metadata": {
        "id": "mMlNnzIsmd5n"
      }
    },
    {
      "cell_type": "code",
      "source": [
        "# Backward fill method to propagate the previous values forward\n",
        "df_bfill = df.fillna(method='bfill')\n",
        "print(df_bfill)"
      ],
      "metadata": {
        "colab": {
          "base_uri": "https://localhost:8080/"
        },
        "id": "2p621MQomh2h",
        "outputId": "65a9e938-de01-4e65-ec68-56fdbd8e251c"
      },
      "execution_count": 10,
      "outputs": [
        {
          "output_type": "stream",
          "name": "stdout",
          "text": [
            "      Name   Age   Salary   Departmrnt\n",
            "0    Alice  25.0  50000.0           HR\n",
            "1      Bob  30.0  70000.0  Enginnering\n",
            "2  Charlie  35.0  70000.0  Enginnering\n",
            "3    David  28.0  60000.0           HR\n",
            "4      Eve  28.0  80000.0           HR\n",
            "5    Frank  40.0  55000.0        Sales\n",
            "6    Grace  50.0  85000.0        Sales\n",
            "7     Hank  60.0  90000.0        Sales\n"
          ]
        }
      ]
    },
    {
      "cell_type": "markdown",
      "source": [
        "Removing Duplicates"
      ],
      "metadata": {
        "id": "1M-nURBrmxVv"
      }
    },
    {
      "cell_type": "code",
      "source": [
        "# Add duplicate rows for demonstration\n",
        "df = pd.concat([df, df.iloc[[0]], df.iloc[[1]]], ignore_index=True)\n",
        "print('Before revoming duplicates:\\n',df)\n",
        "# Remove duplicate rows\n",
        "df_no_duplicates = df.drop_duplicates()\n",
        "print('After removing duplicates:\\n',df_no_duplicates)"
      ],
      "metadata": {
        "colab": {
          "base_uri": "https://localhost:8080/"
        },
        "id": "cjXuQsROm0gw",
        "outputId": "ee3abd07-6bf9-41dc-8df1-679dae1ac537"
      },
      "execution_count": 13,
      "outputs": [
        {
          "output_type": "stream",
          "name": "stdout",
          "text": [
            "Before revoming duplicates:\n",
            "       Name   Age   Salary   Departmrnt\n",
            "0    Alice  25.0  50000.0           HR\n",
            "1      Bob  30.0      NaN  Enginnering\n",
            "2  Charlie  35.0  70000.0  Enginnering\n",
            "3    David   NaN  60000.0           HR\n",
            "4      Eve  28.0  80000.0           HR\n",
            "5    Frank  40.0  55000.0        Sales\n",
            "6    Grace  50.0  85000.0        Sales\n",
            "7     Hank  60.0  90000.0        Sales\n",
            "8    Alice  25.0  50000.0           HR\n",
            "9      Bob  30.0      NaN  Enginnering\n",
            "After removing duplicates:\n",
            "       Name   Age   Salary   Departmrnt\n",
            "0    Alice  25.0  50000.0           HR\n",
            "1      Bob  30.0      NaN  Enginnering\n",
            "2  Charlie  35.0  70000.0  Enginnering\n",
            "3    David   NaN  60000.0           HR\n",
            "4      Eve  28.0  80000.0           HR\n",
            "5    Frank  40.0  55000.0        Sales\n",
            "6    Grace  50.0  85000.0        Sales\n",
            "7     Hank  60.0  90000.0        Sales\n"
          ]
        }
      ]
    },
    {
      "cell_type": "markdown",
      "source": [
        "Replacing Incorrect Values"
      ],
      "metadata": {
        "id": "xGrSTrnbo4PT"
      }
    },
    {
      "cell_type": "code",
      "source": [
        "# Replace incorrect values in the 'Department' column\n",
        "df_corrected = df.replace({'Departmrnt': {'HR': 'Human Resources', 'Sales': 'Sales Department'}})\n",
        "print(df_corrected)"
      ],
      "metadata": {
        "colab": {
          "base_uri": "https://localhost:8080/"
        },
        "id": "RT0EoJ7ko9uD",
        "outputId": "ae4717a7-7853-4340-8f83-83ee4d7a1e2b"
      },
      "execution_count": 15,
      "outputs": [
        {
          "output_type": "stream",
          "name": "stdout",
          "text": [
            "      Name   Age   Salary        Departmrnt\n",
            "0    Alice  25.0  50000.0   Human Resources\n",
            "1      Bob  30.0      NaN       Enginnering\n",
            "2  Charlie  35.0  70000.0       Enginnering\n",
            "3    David   NaN  60000.0   Human Resources\n",
            "4      Eve  28.0  80000.0   Human Resources\n",
            "5    Frank  40.0  55000.0  Sales Department\n",
            "6    Grace  50.0  85000.0  Sales Department\n",
            "7     Hank  60.0  90000.0  Sales Department\n",
            "8    Alice  25.0  50000.0   Human Resources\n",
            "9      Bob  30.0      NaN       Enginnering\n"
          ]
        }
      ]
    },
    {
      "cell_type": "markdown",
      "source": [
        "Ensuring Consistency"
      ],
      "metadata": {
        "id": "MOoZ6zJPp6kn"
      }
    },
    {
      "cell_type": "code",
      "source": [
        "# Convert all dempartment name to lowercase\n",
        "df['Departmrnt'] = df['Departmrnt'].str.lower()\n",
        "print(df)"
      ],
      "metadata": {
        "colab": {
          "base_uri": "https://localhost:8080/"
        },
        "id": "zrwhP1DRp_4d",
        "outputId": "23de3d34-0a8a-4894-bc16-d4122440090d"
      },
      "execution_count": 17,
      "outputs": [
        {
          "output_type": "stream",
          "name": "stdout",
          "text": [
            "      Name   Age   Salary   Departmrnt\n",
            "0    Alice  25.0  50000.0           hr\n",
            "1      Bob  30.0      NaN  enginnering\n",
            "2  Charlie  35.0  70000.0  enginnering\n",
            "3    David   NaN  60000.0           hr\n",
            "4      Eve  28.0  80000.0           hr\n",
            "5    Frank  40.0  55000.0        sales\n",
            "6    Grace  50.0  85000.0        sales\n",
            "7     Hank  60.0  90000.0        sales\n",
            "8    Alice  25.0  50000.0           hr\n",
            "9      Bob  30.0      NaN  enginnering\n"
          ]
        }
      ]
    },
    {
      "cell_type": "markdown",
      "source": [
        "Min-Max Normalization"
      ],
      "metadata": {
        "id": "CgdKnTmCqWGL"
      }
    },
    {
      "cell_type": "code",
      "source": [
        "df_normalized = df.copy()\n",
        "for col in ['Age','Salary']:\n",
        "  df_normalized[col] = (df[col] - df[col].min()) / (df[col].max() - df[col].min())\n",
        "print (\"Original DataFrame\")\n",
        "print(df)\n",
        "print(\"\\nNormalized DataFrame\")\n",
        "print(df_normalized)\n"
      ],
      "metadata": {
        "colab": {
          "base_uri": "https://localhost:8080/"
        },
        "id": "9nZZFDncqiRO",
        "outputId": "8fcc532d-384c-4655-9a02-a4e9798796b9"
      },
      "execution_count": 18,
      "outputs": [
        {
          "output_type": "stream",
          "name": "stdout",
          "text": [
            "Original DataFrame\n",
            "      Name   Age   Salary   Departmrnt\n",
            "0    Alice  25.0  50000.0           hr\n",
            "1      Bob  30.0      NaN  enginnering\n",
            "2  Charlie  35.0  70000.0  enginnering\n",
            "3    David   NaN  60000.0           hr\n",
            "4      Eve  28.0  80000.0           hr\n",
            "5    Frank  40.0  55000.0        sales\n",
            "6    Grace  50.0  85000.0        sales\n",
            "7     Hank  60.0  90000.0        sales\n",
            "8    Alice  25.0  50000.0           hr\n",
            "9      Bob  30.0      NaN  enginnering\n",
            "\n",
            "Normalized DataFrame\n",
            "      Name       Age  Salary   Departmrnt\n",
            "0    Alice  0.000000   0.000           hr\n",
            "1      Bob  0.142857     NaN  enginnering\n",
            "2  Charlie  0.285714   0.500  enginnering\n",
            "3    David       NaN   0.250           hr\n",
            "4      Eve  0.085714   0.750           hr\n",
            "5    Frank  0.428571   0.125        sales\n",
            "6    Grace  0.714286   0.875        sales\n",
            "7     Hank  1.000000   1.000        sales\n",
            "8    Alice  0.000000   0.000           hr\n",
            "9      Bob  0.142857     NaN  enginnering\n"
          ]
        }
      ]
    }
  ]
}